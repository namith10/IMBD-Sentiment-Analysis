{
  "nbformat": 4,
  "nbformat_minor": 0,
  "metadata": {
    "colab": {
      "provenance": []
    },
    "kernelspec": {
      "name": "python3",
      "display_name": "Python 3"
    },
    "language_info": {
      "name": "python"
    }
  },
  "cells": [
    {
      "cell_type": "code",
      "execution_count": null,
      "metadata": {
        "id": "gUJ_9yaP-zPe"
      },
      "outputs": [],
      "source": [
        "import requests\n",
        "from bs4 import BeautifulSoup"
      ]
    },
    {
      "cell_type": "code",
      "source": [
        "url='https://www.imdb.com/title/tt12392504/reviews?ref_=tt_urv'"
      ],
      "metadata": {
        "id": "odkmsWEe-7V3"
      },
      "execution_count": null,
      "outputs": []
    },
    {
      "cell_type": "code",
      "source": [
        "page=requests.get(url)"
      ],
      "metadata": {
        "id": "MmCXf8pg-_rE"
      },
      "execution_count": null,
      "outputs": []
    },
    {
      "cell_type": "code",
      "source": [
        "soup=BeautifulSoup(page.content,'html.parser')"
      ],
      "metadata": {
        "id": "-7MpX2jB_ENb"
      },
      "execution_count": null,
      "outputs": []
    },
    {
      "cell_type": "code",
      "source": [
        "text_un=soup.findAll('div',class_=\"text show-more__control\")\n"
      ],
      "metadata": {
        "id": "zNr_BJ67_X_J"
      },
      "execution_count": null,
      "outputs": []
    },
    {
      "cell_type": "code",
      "source": [
        "for i in range(25):\n",
        "  text=text_un[i].text.replace(\"\\n\",'')\n",
        "  text=text.replace('\\xa0','')\n",
        "  print(text)"
      ],
      "metadata": {
        "id": "5UCBqQZ6Adk4",
        "colab": {
          "base_uri": "https://localhost:8080/"
        },
        "outputId": "7705211d-8cd8-4bd6-bbbb-91b29df403c6"
      },
      "execution_count": null,
      "outputs": [
        {
          "output_type": "stream",
          "name": "stdout",
          "text": [
            "Okay, so the bottom line is \"harshad mehta\" was involved in most of the wrongdoing but was he the only guy responsible ? No, Never.In a scam like huge as 1992 shown in this series, it was never one person befooling the entire nation.This show has 2 names written all over it, pratik gandhi (harshad mehta) and the creator himself Hansal mehta. What a crazy show he has pulled off, no big actors with huge following but bunch of actors who have shown their par excellence in this 9 episode long series. this is the best work of hansal mehta that he has pulled of in his career.From the scene 1 to the last pratik gandhi has stole the show. what a great addition to the film industry.The strongest point in this very complicated series filled with so many jargons is the fact is it's screenplay. to the point, no nonsense, no strong language without any use, no vulgarity and just a focus on story-line.a Strong screenplay and good direction is always the key to the film/ series and SCAM 1992 is here to proof.don't think just watch it, you love it and want to watch it in just one go.too good to be made for an Indian audience which focuses only on one thing a good meme templates, which this series is definitely not.a must must watch\n",
            "Honestly, I was blown away. This is the only Indian web series I found which doesn't use overly melodramatic scenes. Usually Indian TV series in general stretch the story to the point it almost gets frustrating. But not this one. Do your self a favor and watch it now!\n",
            "You will get A to Z all details of this scam, i may be wrong but due to this series, i don't think that i need to watch the upcoming movie \"big bull\" because 2 to 3 hours too less for explain the story. If you are at home, just watch this web series, you will not bore for even 1 second, All actors played their role excellently, i like reporter character as well.\n",
            "Great story, direction and acting. Pratik gandhi is doing great job.Must watch!\n",
            "This year was flooded with web series on all the OTT platforms. But not everyone matches the bar set by this series. I watched it devoid of any expectations thinking of completing an episode per day but ended up binge watching it. Hansal Mehta is already an established name in the industry. I was always a fan of his filmography. But this series made me a bigger fan of his. The effort the whole team has put in literally shows on screen. Full marks to Pratik Gandhi who lived his character completely. Rest of the cast also did a fabulous job. It was a tough task of displaying entire journey of Harshad Mehta in 10 episodes but the master magician Hansal Mehta did that with perfection. Extra points to the bgm and cinematography. All in all it is a must watch web series for everyone.\n",
            "The cast were so involved in the respective they are playing it was like watching real Harshad Mehta playing his own story.\n",
            "Its not just only about harshad metha but also about other big market participants who use to rule markets, Harshad got caught because his ignorance and fame.He used to believe he can run whole market by his illegal methods and try to make his name and wealth but we also should not ignore other market participants also and their nasty techniques.Like Manubhai, Amit kedia , citibank cartel also use to do these things but one that caught first get the punishment.All these other actors had a connection with RBI governor and Income Tax Departments.i never heard about earlier CitiBank cartel in india maybe media dont highlight that too much or maybe they were made to ignore that.(Socialist Era)End of the day its BULLS vs BEARSBull lost because he lost his main goal to make money and engaged in unnecessary activities(Fame,Big man in market)Remember india was socialist country that time.Rich men always have more contacts and when someone coming out of pack and try to break already monopolized market he always create more enemies than friends\n",
            "This web series is a masterpiece. Pratik Gandhi is the future superstar of cinema.\n",
            "An amazing series with superb acting , outstanding storyline & wonderful music. It keeps you engaged you in the story. Special mention to Pratik Gandhi for his superb portrayal of Harshad mehta.\n",
            "Scam 1992 The Harshad Mehta story is a brilliant web series directed by Hansal Mehta. I've been a Hansal Mehta fan since Bose and Omerta. His direction is mindblowing. Performance by Pratik Gandhi, Shreya Dhanwanthary and others are good. In short a definite watch.\n",
            "Real talent and story comes in webseries.We love it.Awesome storyline screenplay and best music.Kudos to the production team.\n",
            "This is slightly overrated in IMDB. People just give higher rating because it's already rated high. Series is good but becomes bore sometimes during episodes 4-6. 1 dialogue 'risk hai toh ishk hai' is repeated always and becomes irritating later. Harshad always talks with proverbs. Funny things is whenever the Harshad deals with bank officials and they don't agree with him, he tells proverbs and they agree to deal with him. This happens with all people who deal with him. The series shows harshad mehta from late 70's. Till he gets caught, harshad mehta and all other characters look same. For more than 15 years in storyline none of the characters looks have changed. They look exactly same in 1978 and also in 1992. Harshad Mehta is made to look like he is an innocent guy who just used loopholes in system.Financial terms are explained very well. Prathik has done great job as Harshad Mehta.\n",
            "It's a good show. But better than Breaking Bad, GOT & Dark?!!!! Seriously???? What kind of weed are you people getting? Stupid people comparing it with best shows of all time just because it's an Indian origin. Grow up kids!\n",
            "For me SCAM1992 is the best web series of India till now. After ages actor has been into its character. Music was outstanding. Screenplay was tight n perfect. All the actors in the series has done justice to its role.\n",
            "Excellent.. Masterpiece👌👌👌 A Gem of a Web Series.. 👍👍 A Great Acting by All. 👌Great Direction 👌\n",
            "I have no words. Pratik Gandhi has played Harshad Mehta the way it seems so magical, so real. This series has been made fantastically. Everyone have their role to perfect.Cinematography is outstanding.The stock market world, the 80s the 90s , the businesses, the culture, the politics, money, scam, you won't get to watch these things in any movie or series. This is completely a new experience to watch.I loved the role of Harshad Mehta, Ashwin Mehta and his friend from Stock Market the Seth. Hated Sucheta Dalal to a great extent.I would watch this series sometime again. It's once in a lifetime work. Hats off to the team!\n",
            "I've watched so many web series in last few months. I have to say watching Scam 1992: The Harshad Mehta Story was one of the best binge watch so far. Every episode is so well scripted and plotted. The characters are excellent in their roles.Anyone who love binge-watch, go for it. It's too good not to be missed\n",
            "Amazing series. Many want to learn the art of making money, few learn it and some unique personality over achieve it. Had heard lot about this scam and got to know lot about it. It's a known story about many taking advantage of the loopholes in the system but sadly Harshad ended up on receiving end. Acting, story, music and everything is up to the mark\n",
            "Must watch , great direction , character , and BGM\n",
            "I watched this whole series in one go . The screenplay , direction ,story , cinematography everything is top notch . Watch this series without second thought .\n",
            "The show has some known faces with never seen before characters. Once you start the show, there is no going back. Hooked.Yeah! The show has created the buzz, but it deserves way more than that. Everyone needs to watch this. You won't regret for sure.\n",
            "Good series, but not awesome. Good story and pace. Shot like a soap opera. Acting is from great to not so good. I give it six stars. I guess the high ratings(lots of tens) comes from Indians. I guess it's like the stock market in the TV-show, You overwhelm the market and make it a bubble(with reviews). Overall a good series but not really a top notch. It's not anywhere near Breaking Bad in quality(as some mention).\n",
            "It should be 7 not 9+obviously overratted. Trust me it's good but not that much good either.\n",
            "Scam 1992 the harshad Mehta story is a brilliant web series directed by hansal Mehta sir . It shows Indian stock markets earlier reality , risk hai toh ishq hai , capturing the Essence of 1980s . Amazing performance by all , such a gem hemant kher(Ashwin) who is the brother of Pratik Gandhi effortless performance by him . Pratik Gandhi justified the character by being rigid. This rise in OTT , is brilliant and welcoming . The music used for the titles and end will give you goosebumps for sure. The dialogue and phrases used in different language will blow you mind .. must watch web series\n",
            "This definitely is one of the most brilliant series 2020 has produced.It tells the story of the scam in such a way that even a layman can understand the hardcore terms of stock and money market. The way it progresses the story, I did not even blink for a second. It's a well told narration based on facts and how things were in that timeline. Hats off to Hansal Mehta for this brilliant direction.The casting has been the highlight of this series with Pratik Gandhi as Harshad Mehta and Shreya Dhanwanthary as Suchita Dalal. The expressions and dialogue delivery is on point. The same goes for the rest of the cast and there is not a single one who is not worth 10/10 when it comes to acting.Absolutely worth the time.\n"
          ]
        }
      ]
    },
    {
      "cell_type": "code",
      "source": [
        "raw=text"
      ],
      "metadata": {
        "id": "2q90IFBuGlsD"
      },
      "execution_count": null,
      "outputs": []
    },
    {
      "cell_type": "code",
      "source": [
        "import nltk\n",
        "from nltk.tokenize import word_tokenize,sent_tokenize\n",
        "nltk.download('punkt')\n",
        "words=word_tokenize(raw)"
      ],
      "metadata": {
        "colab": {
          "base_uri": "https://localhost:8080/"
        },
        "id": "In8v8yK_7c_R",
        "outputId": "94d55dec-a8c2-416c-b813-c49fda39ca2d"
      },
      "execution_count": null,
      "outputs": [
        {
          "output_type": "stream",
          "name": "stderr",
          "text": [
            "[nltk_data] Downloading package punkt to /root/nltk_data...\n",
            "[nltk_data]   Unzipping tokenizers/punkt.zip.\n"
          ]
        }
      ]
    },
    {
      "cell_type": "code",
      "source": [
        "pip install textstat"
      ],
      "metadata": {
        "colab": {
          "base_uri": "https://localhost:8080/"
        },
        "id": "NiKnkUPVDr34",
        "outputId": "f9f2af95-abfe-4001-ad90-0055051b824e"
      },
      "execution_count": null,
      "outputs": [
        {
          "output_type": "stream",
          "name": "stdout",
          "text": [
            "Collecting textstat\n",
            "  Downloading textstat-0.7.3-py3-none-any.whl (105 kB)\n",
            "\u001b[2K     \u001b[90m━━━━━━━━━━━━━━━━━━━━━━━━━━━━━━━━━━━━━━━━\u001b[0m \u001b[32m105.1/105.1 kB\u001b[0m \u001b[31m1.2 MB/s\u001b[0m eta \u001b[36m0:00:00\u001b[0m\n",
            "\u001b[?25hCollecting pyphen (from textstat)\n",
            "  Downloading pyphen-0.15.0-py3-none-any.whl (2.1 MB)\n",
            "\u001b[2K     \u001b[90m━━━━━━━━━━━━━━━━━━━━━━━━━━━━━━━━━━━━━━━━\u001b[0m \u001b[32m2.1/2.1 MB\u001b[0m \u001b[31m13.8 MB/s\u001b[0m eta \u001b[36m0:00:00\u001b[0m\n",
            "\u001b[?25hInstalling collected packages: pyphen, textstat\n",
            "Successfully installed pyphen-0.15.0 textstat-0.7.3\n"
          ]
        }
      ]
    },
    {
      "cell_type": "code",
      "source": [
        "from textstat import textstat\n",
        "from textblob import TextBlob\n",
        "import nltk\n",
        "nltk.download('stopwords')\n",
        "from nltk.corpus import stopwords\n",
        "stop_words=stopwords.words('english')"
      ],
      "metadata": {
        "colab": {
          "base_uri": "https://localhost:8080/"
        },
        "id": "lah_JQ6iDmF2",
        "outputId": "08442a1d-f368-400b-d929-0134f0f1b9ab"
      },
      "execution_count": null,
      "outputs": [
        {
          "output_type": "stream",
          "name": "stderr",
          "text": [
            "[nltk_data] Downloading package stopwords to /root/nltk_data...\n",
            "[nltk_data]   Unzipping corpora/stopwords.zip.\n"
          ]
        }
      ]
    },
    {
      "cell_type": "code",
      "source": [
        "from nltk.corpus import opinion_lexicon\n",
        "nltk.download('opinion_lexicon')\n",
        "positive_set=set(opinion_lexicon.positive())\n",
        "negative_set=set(opinion_lexicon.negative())"
      ],
      "metadata": {
        "colab": {
          "base_uri": "https://localhost:8080/"
        },
        "id": "eqGE4TDVIlQD",
        "outputId": "413110a1-ff2c-48ea-83c4-5c58ea4e2a8f"
      },
      "execution_count": null,
      "outputs": [
        {
          "output_type": "stream",
          "name": "stderr",
          "text": [
            "[nltk_data] Downloading package opinion_lexicon to /root/nltk_data...\n",
            "[nltk_data]   Unzipping corpora/opinion_lexicon.zip.\n"
          ]
        }
      ]
    },
    {
      "cell_type": "code",
      "source": [
        "positive=len([word for word in words if word in positive_set])\n",
        "negative=len([word for word in words if word in negative_set])"
      ],
      "metadata": {
        "id": "qZ2ezUavJACS"
      },
      "execution_count": null,
      "outputs": []
    },
    {
      "cell_type": "code",
      "source": [
        "removed_pun=len([word for word in words if word.isalnum()])"
      ],
      "metadata": {
        "id": "HdulwfJLMHd5"
      },
      "execution_count": null,
      "outputs": []
    },
    {
      "cell_type": "code",
      "source": [
        "import re\n",
        "pronoun_pattern = r'\\b(I|you|he|she|it|we|they|me|him|her|us|them|mine|yours|his|hers|its|ours|theirs|myself|yourself|himself|herself|itself|ourselves|yourselves|themselves)\\b'\n",
        "matches=re.findall(pronoun_pattern, raw)"
      ],
      "metadata": {
        "id": "KcjZ1ecoELwF"
      },
      "execution_count": null,
      "outputs": []
    },
    {
      "cell_type": "code",
      "source": [
        "print('Positive score: ',positive)\n",
        "print('Negative score: ',negative)\n",
        "print('Polarity score:',TextBlob(raw).sentiment.polarity)\n",
        "print('Subjectivity score: ',TextBlob(raw).sentiment.subjectivity)\n",
        "print('Avg Sentence Lenght:',textstat.avg_sentence_length(raw))\n",
        "print('Avg complex words: ',textstat.difficult_words(raw)/len(words)*100)\n",
        "print('Fog Index: ',textstat.gunning_fog(raw))\n",
        "print('Avg words per sentence: ',textstat.words_per_sentence(raw))\n",
        "print('Complex word count: ',textstat.syllable_count(raw))\n",
        "print('Word count: ',removed_pun)\n",
        "print('Syllable count per word: ',textstat.avg_syllables_per_word(raw))\n",
        "print('No. of pronouns:',len(matches))\n",
        "print('Average word length: ',textstat.avg_character_per_word(raw))"
      ],
      "metadata": {
        "colab": {
          "base_uri": "https://localhost:8080/"
        },
        "id": "Xim8SmZOEvqO",
        "outputId": "652c7458-f580-4d2c-88c6-feb401414e9d"
      },
      "execution_count": null,
      "outputs": [
        {
          "output_type": "stream",
          "name": "stdout",
          "text": [
            "Positive score:  5\n",
            "Negative score:  1\n",
            "Polarity score: 0.24857142857142853\n",
            "Subjectivity score:  0.40392857142857147\n",
            "Avg Sentence Lenght: 14.6\n",
            "Avg complex words:  14.388489208633093\n",
            "Fog Index:  8.59\n",
            "Avg words per sentence:  14.555555555555555\n",
            "Complex word count:  175\n",
            "Word count:  127\n",
            "Syllable count per word:  1.3\n",
            "No. of pronouns: 3\n",
            "Average word length:  4.49\n"
          ]
        }
      ]
    }
  ]
}